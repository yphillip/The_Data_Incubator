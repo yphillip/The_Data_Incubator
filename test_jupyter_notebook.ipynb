{
 "cells": [
  {
   "cell_type": "code",
   "execution_count": 8,
   "metadata": {
    "collapsed": true
   },
   "outputs": [],
   "source": [
    "import random\n",
    "import numpy as np"
   ]
  },
  {
   "cell_type": "code",
   "execution_count": 9,
   "metadata": {
    "collapsed": true
   },
   "outputs": [],
   "source": [
    "movement = {}\n",
    "movement[0] = [6,9]\n",
    "movement[1] = [7,8,10]\n",
    "movement [2] = [4,9,11]\n",
    "movement [3] = [5,10]\n",
    "movement [4] = [2,10,13]\n",
    "movement [5] = [3,11,12,14]\n",
    "movement [6] = [0,8,13,15]\n",
    "movement [7] = [1,9,14]\n",
    "movement [8] = [1,6,14]\n",
    "movement [9] = [0,2,7,15]\n",
    "movement [10] = [1,3,4,12]\n",
    "movement [11] = [2,5,13]\n",
    "movement [12] = [5,10]\n",
    "movement [13] = [4,6,11]\n",
    "movement [14] = [5,7,8]\n",
    "movement [15] = [6,9]"
   ]
  },
  {
   "cell_type": "code",
   "execution_count": 10,
   "metadata": {
    "collapsed": true
   },
   "outputs": [],
   "source": [
    "p = 0\n",
    "S = 0\n",
    "\n",
    "def move_knight(p,T):\n",
    "\tS = 0\n",
    "\tfor i in range(T):\n",
    "\t\tp = random.choice(movement[p])\n",
    "\t\tS += p\n",
    "\treturn S"
   ]
  },
  {
   "cell_type": "code",
   "execution_count": 11,
   "metadata": {},
   "outputs": [
    {
     "name": "stdout",
     "output_type": "stream",
     "text": [
      "\n",
      "For 100000 samples, after T = 16 moves,\n",
      "Mean of S mod 13: 6.01304\n",
      "Standard deviation of S mod 13: 3.73903864093\n",
      "\n"
     ]
    }
   ],
   "source": [
    "num_trials = 100000\n",
    "trials = []\n",
    "\n",
    "for i in range(num_trials):\n",
    "\ttrials.append(move_knight(0,16))\n",
    "\n",
    "print(\"\")\n",
    "print(\"For \" + str(num_trials) + \" samples, after T = 16 moves,\")\n",
    "print(\"Mean of S mod 13: \" + str(np.mean([x%13 for x in trials])))\n",
    "print(\"Standard deviation of S mod 13: \" + str(np.std([x%13 for x in trials])))\n",
    "print(\"\")"
   ]
  },
  {
   "cell_type": "code",
   "execution_count": 12,
   "metadata": {},
   "outputs": [
    {
     "name": "stdout",
     "output_type": "stream",
     "text": [
      "\n",
      "For 100000 samples, after T = 512 moves,\n",
      "Mean of S mod 311: 139.32612\n",
      "Standard deviation of S mod 311: 81.7640895855\n",
      "\n"
     ]
    }
   ],
   "source": [
    "num_trials = 100000\n",
    "trials = []\n",
    "\n",
    "for i in range(num_trials):\n",
    "\ttrials.append(move_knight(0,512))\n",
    "\n",
    "print(\"\")\n",
    "print(\"For \" + str(num_trials) + \" samples, after T = 512 moves,\")\n",
    "print(\"Mean of S mod 311: \" + str(np.mean([x%311 for x in trials])))\n",
    "print(\"Standard deviation of S mod 311: \" + str(np.std([x%311 for x in trials])))\n",
    "print(\"\")"
   ]
  },
  {
   "cell_type": "code",
   "execution_count": 13,
   "metadata": {},
   "outputs": [
    {
     "name": "stdout",
     "output_type": "stream",
     "text": [
      "\n",
      "For 100000 samples, after T = 16 moves,\n",
      "Probability that sum is divisible by 5 given that it is divisible by 13 is: 0.27382636655948556\n",
      "\n"
     ]
    }
   ],
   "source": [
    "num_trials = 100000\n",
    "trials = []\n",
    "divs_by_13 = 0 \n",
    "divs_by_5_given_divs_by_13 = 0\n",
    "\n",
    "for i in range(num_trials):\n",
    "\ttrials.append(move_knight(0,16))\n",
    "\n",
    "for t in trials:\n",
    "\tif t % 13 == 0:\n",
    "\t\tdivs_by_13 += 1\n",
    "\t\tif t % 5 == 0:\n",
    "\t\t\tdivs_by_5_given_divs_by_13 += 1\t\n",
    "\n",
    "#print divs_by_13\n",
    "#print divs_by_5_given_divs_by_13\n",
    "#print divs_by_5_given_divs_by_13/divs_by_13\n",
    "\n",
    "print(\"\")\n",
    "print(\"For \" + str(num_trials) + \" samples, after T = 16 moves,\")\n",
    "print(\"Probability that sum is divisible by 5 given that it is divisible by 13 is: \" + str(divs_by_5_given_divs_by_13/divs_by_13))\n",
    "print(\"\")"
   ]
  },
  {
   "cell_type": "code",
   "execution_count": null,
   "metadata": {
    "collapsed": true
   },
   "outputs": [],
   "source": []
  },
  {
   "cell_type": "code",
   "execution_count": 14,
   "metadata": {},
   "outputs": [
    {
     "name": "stdout",
     "output_type": "stream",
     "text": [
      "\n",
      "For 100000 samples, after T = 512 moves,\n",
      "Probability that sum is divisible by 7 given that it is divisible by 43 is: 0.1426088519972431\n",
      "\n"
     ]
    }
   ],
   "source": [
    "num_trials = 100000\n",
    "trials = []\n",
    "divs_by_43 = 0 \n",
    "divs_by_7_given_divs_by_43 = 0\n",
    "\n",
    "for i in range(num_trials):\n",
    "\ttrials.append(move_knight(0,512))\n",
    "\n",
    "for t in trials:\n",
    "\tif t % 3 == 0:\n",
    "\t\tdivs_by_43 += 1\n",
    "\t\tif t % 7 == 0:\n",
    "\t\t\tdivs_by_7_given_divs_by_43 += 1\t\n",
    "\n",
    "#print divs_by_43\n",
    "#print divs_by_7_given_divs_by_43\n",
    "#print divs_by_7_given_divs_by_43/divs_by_43\n",
    "\n",
    "print(\"\")\n",
    "print(\"For \" + str(num_trials) + \" samples, after T = 512 moves,\")\n",
    "print(\"Probability that sum is divisible by 7 given that it is divisible by 43 is: \" + str(divs_by_7_given_divs_by_43/divs_by_43))\n",
    "print(\"\")"
   ]
  },
  {
   "cell_type": "code",
   "execution_count": 15,
   "metadata": {},
   "outputs": [
    {
     "name": "stdout",
     "output_type": "stream",
     "text": [
      "Hello world!\n"
     ]
    }
   ],
   "source": [
    "print('Hello world!')"
   ]
  },
  {
   "cell_type": "markdown",
   "metadata": {
    "collapsed": true
   },
   "source": [
    "hello world"
   ]
  },
  {
   "cell_type": "markdown",
   "metadata": {},
   "source": [
    "# Hello world"
   ]
  },
  {
   "cell_type": "code",
   "execution_count": null,
   "metadata": {
    "collapsed": true
   },
   "outputs": [],
   "source": []
  }
 ],
 "metadata": {
  "kernelspec": {
   "display_name": "Python 3",
   "language": "python",
   "name": "python3"
  },
  "language_info": {
   "codemirror_mode": {
    "name": "ipython",
    "version": 3
   },
   "file_extension": ".py",
   "mimetype": "text/x-python",
   "name": "python",
   "nbconvert_exporter": "python",
   "pygments_lexer": "ipython3",
   "version": "3.6.3"
  }
 },
 "nbformat": 4,
 "nbformat_minor": 2
}
